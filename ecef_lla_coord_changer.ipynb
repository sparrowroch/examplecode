{
 "cells": [
  {
   "cell_type": "markdown",
   "id": "c8cd02a8",
   "metadata": {},
   "source": [
    "# ECEF to LLA to ECEF Coordinate Changer"
   ]
  },
  {
   "cell_type": "markdown",
   "id": "aaf128ec",
   "metadata": {},
   "source": [
    "This notebook was created by Sparrow Roch for use with the \"Observatory Position Offset as a Source of Noise in Pulsar Timing Searches for Gravitational Waves\" project.\n",
    "\n",
    "This project analyses how data is affected based on simulated offsets in positional parameters for different observatories and telescopes (Green Bank Telescope and Arecibo Observatory, for now). Early stages in this project involved changing the x, y, and z geocentric (Earth-centered Earth-fixed (ECEF)) coordinates equally. However, it is believed, based on how pulsar signals are observed, that changes in observatory altitude may be most significant. Thus, to offset an observatory's position, one must...\n",
    "\n",
    "1. Convert ECEF to latitude, longitude, and altitude (LLA)\n",
    "2. Impose an altitude position offset\n",
    "3. Convert back from LLA to ECEF with this new altitude offset\n",
    "\n",
    "Preliminary results from earlier stages of the project indicate that offsets greater than 1000 m lead to unusable data. Offsets at 100 m (changed equally in ECEF x, y, and z) are dubious as well, but to a less-offensive extent. This notebook will be used to help generate new pulsar datasets with offsets ranging between 0 - 100 m."
   ]
  },
  {
   "cell_type": "code",
   "execution_count": 10,
   "id": "b6d7c31b",
   "metadata": {},
   "outputs": [],
   "source": [
    "import numpy as np\n",
    "import matplotlib as plt\n",
    "from astropy import units as u"
   ]
  },
  {
   "cell_type": "markdown",
   "id": "0b172987",
   "metadata": {},
   "source": [
    "# ECEF to LLA"
   ]
  },
  {
   "cell_type": "markdown",
   "id": "c618fc10",
   "metadata": {},
   "source": [
    "TEMPO2 uses the Geodetic Reference System 1980 (GRS80) for\n",
    "its geodetic coordinates (or, Earth-centered Earth-fixed (ECEF)\n",
    "coordinates).\n",
    "\n",
    "Especially when measuring altitudes, the Earth cannot be considered a perfect sphere. However, the geoid (Earth's topographical surface) is both complicated and dynamic, thus making it too irregular for point positioning. Instead, a reference ellipsoid matching the geoid volume is used as the surface for such calculations.\n",
    "\n",
    "The 1980 Geodetic Reference System (GRS80) is one such reference ellipsoid. Many parameters go into the full GRS80 model. Here, only those necessary for this ECEF to LLA to ECEF calculation are included.\n",
    "\n",
    "For now, please see the Wiki for fuller details:\n",
    "https://en.wikipedia.org/wiki/Geodetic_Reference_System_1980"
   ]
  },
  {
   "cell_type": "markdown",
   "id": "cd71c4a6",
   "metadata": {},
   "source": [
    "### GRS80 Constants"
   ]
  },
  {
   "cell_type": "code",
   "execution_count": 11,
   "id": "b417fa70",
   "metadata": {},
   "outputs": [
    {
     "name": "stdout",
     "output_type": "stream",
     "text": [
      "a: 6378137.0 m\n",
      "f: 0.0033528106811836376\n"
     ]
    }
   ],
   "source": [
    "##############################\n",
    "# Geometrical constants\n",
    "\n",
    "# Semi-major axis (equatorial radius)\n",
    "a = 6378137.0 * u.m\n",
    "print('a: '+str(a))\n",
    "\n",
    "# Flattening\n",
    "# Note: this is a derived constant. Together, f and a can be\n",
    "# used to derive all other necessary constants.\n",
    "f = 0.003352810681183637418\n",
    "print('f: '+str(f))"
   ]
  },
  {
   "cell_type": "code",
   "execution_count": 12,
   "id": "cc86780a",
   "metadata": {},
   "outputs": [
    {
     "name": "stdout",
     "output_type": "stream",
     "text": [
      "b: 6356752.314140348 m\n",
      "e: 0.081819191042831612704\n",
      "e_prime: 0.08209443815193318474\n"
     ]
    }
   ],
   "source": [
    "##############################\n",
    "# Derived geometrical constants\n",
    "\n",
    "# Semi-minor axis (polar radius)\n",
    "# b = 6356752.314140347 * u.m\n",
    "b = a * (1 - f)\n",
    "print('b: '+str(b))\n",
    "\n",
    "# (First) Eccentricity of elliptical section through poles\n",
    "# e = ((a**2 - b**2)**(1/2))/a = 0.0818191910428\n",
    "e = np.longdouble(((a**2 - b**2)**(1/2))/a)\n",
    "print('e: '+str(e))\n",
    "\n",
    "##############################\n",
    "# Derived physical constants\n",
    "\n",
    "# Second eccentricity = ((a**2 - b**2)**(1/2))/b\n",
    "# also defined as e_prime = e/((1 - e**2)**(1/2)).\n",
    "# (Either option yields same result.)\n",
    "e_prime = np.longdouble(e/((1 - e**2)**(1/2)))\n",
    "print('e_prime: '+str(e_prime))"
   ]
  },
  {
   "cell_type": "markdown",
   "id": "4ef0d406",
   "metadata": {},
   "source": [
    "## ECEF to LLA by closed formula set"
   ]
  },
  {
   "cell_type": "markdown",
   "id": "60f06a0a",
   "metadata": {},
   "source": [
    "TEMPO2's observatories.dat and PINT's observatories.py are\n",
    "currently in agreement. PINT conveniently notes differences\n",
    "in pre-2021 vs current data, and this data is also accessible in\n",
    "archival versions of TEMPO2. There is no difference\n",
    "in coords between TEMPO2 and PINT, only between pre-2021 to\n",
    "current coords. These are included here for easy access.\n",
    "\n",
    "Please see PINT documentation for explanations:\n",
    "https://github.com/nanograv/PINT/blob/master/src/pint/observatory/observatories.py"
   ]
  },
  {
   "cell_type": "code",
   "execution_count": 13,
   "id": "ee08c614",
   "metadata": {},
   "outputs": [
    {
     "name": "stdout",
     "output_type": "stream",
     "text": [
      "Starting with original ECEF coords:\n",
      "X: 882589.289 m\n",
      "Y: -4924872.368 m\n",
      "Z: 3943729.418 m\n"
     ]
    }
   ],
   "source": [
    "# GBT (current):                 GBT (pre-2021):\n",
    "#     X: 882589.289                  X: 882589.65\n",
    "#     Y: -4924872.368                Y: -4924872.32\n",
    "#     Z: 3943729.418                 Z: 3943729.348\n",
    "\n",
    "# AO (current):                  AO (pre-2021):\n",
    "#     X: 2390487.080                 X: 2390490.0\n",
    "#     Y: -5564731.357                Y: -5564764.0\n",
    "#     Z: 1994720.633                 Z: 1994727.0\n",
    "\n",
    "# ECEF XYZ coords for your telescope or observatory of \n",
    "# choice. Unless stated otherwise, units are in meters.\n",
    "X_original = 882589.289 * u.m\n",
    "Y_original = -4924872.368 * u.m\n",
    "Z_original = 3943729.418 * u.m\n",
    "\n",
    "print('Starting with original ECEF coords:')\n",
    "print('X: '+str(X_original))\n",
    "print('Y: '+str(Y_original))\n",
    "print('Z: '+str(Z_original))"
   ]
  },
  {
   "cell_type": "code",
   "execution_count": 14,
   "id": "70bdb87c",
   "metadata": {},
   "outputs": [
    {
     "name": "stdout",
     "output_type": "stream",
     "text": [
      "lam: -79.83984263406875 deg\n",
      "p: 5003332.059152925 m\n",
      "theta: 38.339494132743425 deg\n",
      "phi: 38.433129637659945 deg\n",
      "N: 6386401.962597307 m\n",
      "h: 823.6680528549191 m\n"
     ]
    }
   ],
   "source": [
    "# I am using this reference for the conversion:\n",
    "# https://docs.google.com/viewer?a=v&pid=sites&srcid=ZGVmYXVsdGRvbWFpbnxjdXJzb2RlZ2VvZGVzaWF8Z3g6MmE5ZDBlOWY2Y2MyNWZjZA\n",
    "# Note that it uses WGS84 (instead of GRS80),\n",
    "# but the calculations should be the same.\n",
    "\n",
    "# Longitude (shortened lambda to lam)\n",
    "lam = np.degrees(np.arctan(Y_original/X_original))\n",
    "print('lam: '+str(lam))\n",
    "\n",
    "# An auxiliary value (for convenience)\n",
    "p = (X_original**2 + Y_original**2)**(1/2)\n",
    "print('p: '+str(p))\n",
    "\n",
    "# Another auxiliary value (for convenience)\n",
    "theta = np.degrees(np.arctan((Z_original * a)/(p * b)))\n",
    "print('theta: '+str(theta))\n",
    "\n",
    "# Latitude\n",
    "phi = np.degrees(np.arctan((Z_original + e_prime**2 * b * (np.sin(theta)**3))/(p - e**2 * a * (np.cos(theta)**3))))\n",
    "print('phi: '+str(phi))\n",
    "\n",
    "# Radius of curvature (in meters) defined as N.\n",
    "# NOTE: Check how equatorial and polar radii of\n",
    "# curvature differ.\n",
    "N = a / ((1 - e**2 * (np.sin(phi)**2))**(1/2))\n",
    "print('N: '+str(N))\n",
    "\n",
    "# Height above ellipsoid in meters - this is the altitude\n",
    "h = (p / np.cos(phi)) - N\n",
    "print('h: '+str(h))"
   ]
  },
  {
   "cell_type": "code",
   "execution_count": 15,
   "id": "4dd9fe4a",
   "metadata": {},
   "outputs": [
    {
     "name": "stdout",
     "output_type": "stream",
     "text": [
      "ECEF to LLA Results:\n",
      "Latitude: 38.433129637659945 deg\n",
      "Longitude: -79.83984263406875 deg\n",
      "Altitude: 823.6680528549191 m\n"
     ]
    }
   ],
   "source": [
    "# Note that these results are consistent with those found on\n",
    "# http://www.sysense.com/products/ecef_lla_converter/index.html\n",
    "\n",
    "print('ECEF to LLA Results:')\n",
    "print('Latitude: '+str(phi))\n",
    "print('Longitude: '+str(lam))\n",
    "print('Altitude: '+str(h))"
   ]
  },
  {
   "cell_type": "markdown",
   "id": "2c78d54e",
   "metadata": {},
   "source": [
    "# Imposing an Altitude Offset"
   ]
  },
  {
   "cell_type": "code",
   "execution_count": 16,
   "id": "d8ecb77b",
   "metadata": {},
   "outputs": [
    {
     "name": "stdout",
     "output_type": "stream",
     "text": [
      "Altitude offset: 0.05 m\n",
      "Updated offset altitude: 823.718052854919 m\n"
     ]
    }
   ],
   "source": [
    "# Altitude offset amount in meters\n",
    "alt_offset = 0.05 * u.m\n",
    "print('Altitude offset: '+str(alt_offset))\n",
    "\n",
    "h_offset = h + alt_offset\n",
    "print('Updated offset altitude: '+str(h_offset))"
   ]
  },
  {
   "cell_type": "code",
   "execution_count": 17,
   "id": "b164c3bb",
   "metadata": {},
   "outputs": [
    {
     "name": "stdout",
     "output_type": "stream",
     "text": [
      "Offset Results:\n",
      "Latitude: 38.433129637659945 deg\n",
      "Longitude: -79.83984263406875 deg\n",
      "Altitude: 823.718052854919 m\n"
     ]
    }
   ],
   "source": [
    "print('Offset Results:')\n",
    "print('Latitude: '+str(phi))\n",
    "print('Longitude: '+str(lam))\n",
    "print('Altitude: '+str(h_offset))"
   ]
  },
  {
   "cell_type": "markdown",
   "id": "a023b4e5",
   "metadata": {},
   "source": [
    "# LLA to ECEF"
   ]
  },
  {
   "cell_type": "code",
   "execution_count": 18,
   "id": "9ee20e4c",
   "metadata": {},
   "outputs": [
    {
     "name": "stdout",
     "output_type": "stream",
     "text": [
      "Offset ECEF Coordinates: \n",
      "X: 882589.2959090199 m\n",
      "Y: -4924872.406552516 m\n",
      "Z: 3943729.4490800486 m\n"
     ]
    }
   ],
   "source": [
    "print('Offset ECEF Coordinates: ')\n",
    "\n",
    "X_new = (N + h_offset) * np.cos(phi) * np.cos(lam)\n",
    "print('X: '+str(X_new))\n",
    "\n",
    "Y_new = (N + h_offset) * np.cos(phi) * np.sin(lam)\n",
    "print('Y: '+str(Y_new))\n",
    "\n",
    "Z_new = (((b**2 / a**2)*N) + h_offset) * np.sin(phi)\n",
    "print('Z: '+str(Z_new))\n"
   ]
  },
  {
   "cell_type": "markdown",
   "id": "cf5628c6",
   "metadata": {},
   "source": [
    "# Misc."
   ]
  },
  {
   "cell_type": "code",
   "execution_count": 10,
   "id": "97b986e4",
   "metadata": {},
   "outputs": [
    {
     "name": "stdout",
     "output_type": "stream",
     "text": [
      "X difference: 10.363528784965467 m\n",
      "Y difference: -57.828774018589684 m\n",
      "Z difference: 46.62006185455766 m\n"
     ]
    }
   ],
   "source": [
    "# Differences between original and offset coord values:\n",
    "X_dif = X_new - X_original\n",
    "print('X difference: '+str(X_dif))\n",
    "Y_dif = Y_new - Y_original\n",
    "print('Y difference: '+str(Y_dif))\n",
    "Z_dif = Z_new - Z_original\n",
    "print('Z difference: '+str(Z_dif))"
   ]
  },
  {
   "cell_type": "code",
   "execution_count": 20,
   "id": "b30c4059",
   "metadata": {},
   "outputs": [],
   "source": [
    "# NOTE: When including 0 m altitude offset, there are\n",
    "# still small differences in X, Y, and Z. However, these\n",
    "# are on the order of magnitude 10e-9 to 10e-10 meters.\n",
    "# For pulsar timing, these are not significant.\n",
    "#\n",
    "# It seems to come from differences in using given vs\n",
    "# calculated values, and related to how many significant\n",
    "# digits are included in any calculations."
   ]
  },
  {
   "cell_type": "code",
   "execution_count": null,
   "id": "09a5654b",
   "metadata": {},
   "outputs": [],
   "source": []
  }
 ],
 "metadata": {
  "kernelspec": {
   "display_name": "Python 3 (ipykernel)",
   "language": "python",
   "name": "python3"
  },
  "language_info": {
   "codemirror_mode": {
    "name": "ipython",
    "version": 3
   },
   "file_extension": ".py",
   "mimetype": "text/x-python",
   "name": "python",
   "nbconvert_exporter": "python",
   "pygments_lexer": "ipython3",
   "version": "3.7.11"
  }
 },
 "nbformat": 4,
 "nbformat_minor": 5
}
